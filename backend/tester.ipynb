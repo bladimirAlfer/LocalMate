{
 "cells": [
  {
   "cell_type": "code",
   "execution_count": 4,
   "metadata": {},
   "outputs": [
    {
     "name": "stdout",
     "output_type": "stream",
     "text": [
      "Tienda: 17989, Ubicación: (-12.135105794453583, -77.02212741858906), Radio: 1\n",
      "Tienda: Consultorio Odontologico Brasileiro, Distancia: 0.20 km, Similitud: 1.00\n",
      "Tienda: APOPS, Distancia: 0.58 km, Similitud: 0.30\n",
      "Tienda: Drs Mendoza, Distancia: 0.59 km, Similitud: 0.21\n",
      "Tienda: Sonrise - Clinica Odontologica - Sede Miraflores, Distancia: 0.51 km, Similitud: 0.18\n",
      "[{'tienda_id': 17989, 'nombre': 'Consultorio Odontologico Brasileiro', 'categorias': 'dentist, health', 'latitud': -12.136867, 'longitud': -77.0224193, 'direccion': 'Avenida Almirante Miguel Grau 1502, Barranco', 'calificaciones': 5.0, 'rango_precios': 'Medio', 'metodos_pago': 'Efectivo', 'tamano_tienda': 'Grande', 'estacionamiento': 'Sí', 'horario_apertura': 'Fines de semana', 'distrito': 'Barranco', 'zona': 'Lima Sur', 'combined_features': 'Consultorio Odontologico Brasileiro dentist, health Medio Efectivo Grande Sí Fines de semana Lima Sur', 'distance': 0.2}, {'tienda_id': 17075, 'nombre': 'APOPS', 'categorias': 'dentist, health', 'latitud': -12.1403204, 'longitud': -77.0229878, 'direccion': 'Jirón Pedro Martinto 114, Barranco', 'calificaciones': 4.58, 'rango_precios': 'Alto', 'metodos_pago': 'Transferencia', 'tamano_tienda': 'Pequeña', 'estacionamiento': 'No', 'horario_apertura': 'Fines de semana', 'distrito': 'Barranco', 'zona': 'Lima Sur', 'combined_features': 'APOPS dentist, health Alto Transferencia Pequeña No Fines de semana Lima Sur', 'distance': 0.58}, {'tienda_id': 17095, 'nombre': 'Drs Mendoza', 'categorias': 'dentist, health', 'latitud': -12.1395223, 'longitud': -77.0190702, 'direccion': 'Avenida el Sol 562, Barranco', 'calificaciones': 3.0, 'rango_precios': 'Alto', 'metodos_pago': 'Tarjeta de crédito', 'tamano_tienda': 'Mediana', 'estacionamiento': 'Sí', 'horario_apertura': 'Horario laboral', 'distrito': 'Barranco', 'zona': 'Lima Sur', 'combined_features': 'Drs Mendoza dentist, health Alto Tarjeta de crédito Mediana Sí Horario laboral Lima Sur', 'distance': 0.59}, {'tienda_id': 19077, 'nombre': 'Sonrise - Clinica Odontologica - Sede Miraflores', 'categorias': 'dentist, beauty_salon, spa, doctor, health', 'latitud': -12.1309598, 'longitud': -77.0199859, 'direccion': 'Avenida Tejada 536, Lima', 'calificaciones': 3.8, 'rango_precios': 'Medio', 'metodos_pago': 'Efectivo', 'tamano_tienda': 'Pequeña', 'estacionamiento': 'No', 'horario_apertura': 'Fines de semana', 'distrito': 'Desconocido', 'zona': 'Desconocido', 'combined_features': 'Sonrise - Clinica Odontologica - Sede Miraflores dentist, beauty_salon, spa, doctor, health Medio Efectivo Pequeña No Fines de semana Desconocido', 'distance': 0.51}]\n"
     ]
    }
   ],
   "source": [
    "import pandas as pd\n",
    "import pickle\n",
    "from geopy.distance import geodesic\n",
    "import numpy as np\n",
    "\n",
    "# Cargar los modelos y los datos\n",
    "df_tiendas = pickle.load(open(\"tiendas.pkl\", \"rb\"))\n",
    "cosine_sim = pickle.load(open(\"tfidf_similarity.pkl\", \"rb\"))\n",
    "\n",
    "def obtener_recomendaciones_con_distancia(tienda_id, user_location, cosine_sim=cosine_sim, radius_km=1):\n",
    "    if tienda_id not in df_tiendas['tienda_id'].values:\n",
    "        return []  # O puedes devolver un mensaje de error adecuado\n",
    "    \n",
    "    idx = df_tiendas.index[df_tiendas['tienda_id'] == tienda_id].tolist()[0]\n",
    "    \n",
    "    # Prefiltrar tiendas dentro de un cuadrado de lado 2 * radius_km\n",
    "    lat_min = user_location[0] - radius_km / 111  # Aproximación: 1 grado de latitud ≈ 111 km\n",
    "    lat_max = user_location[0] + radius_km / 111\n",
    "    lon_min = user_location[1] - radius_km / (111 * np.cos(np.radians(user_location[0])))\n",
    "    lon_max = user_location[1] + radius_km / (111 * np.cos(np.radians(user_location[0])))\n",
    "    \n",
    "    prefiltered_tiendas = df_tiendas[\n",
    "        (df_tiendas['latitud'] >= lat_min) & (df_tiendas['latitud'] <= lat_max) &\n",
    "        (df_tiendas['longitud'] >= lon_min) & (df_tiendas['longitud'] <= lon_max)\n",
    "    ]\n",
    "    \n",
    "    # Calcular distancias geodésicas solo para las tiendas prefiltradas\n",
    "    tiendas_dentro_radio = []\n",
    "    for i in prefiltered_tiendas.index:\n",
    "        tienda_location = (prefiltered_tiendas.at[i, 'latitud'], prefiltered_tiendas.at[i, 'longitud'])\n",
    "        distance = geodesic(user_location, tienda_location).km\n",
    "        if distance <= radius_km:\n",
    "            tiendas_dentro_radio.append((i, distance))\n",
    "    \n",
    "    if not tiendas_dentro_radio:\n",
    "        return []  # No hay tiendas dentro del radio especificado\n",
    "    \n",
    "    # Calcular similitud del coseno solo para las tiendas dentro del radio\n",
    "    sim_scores = [(i, cosine_sim[idx][i]) for i, _ in tiendas_dentro_radio]\n",
    "    sim_scores = sorted(sim_scores, key=lambda x: x[1], reverse=True)\n",
    "    sim_scores = sim_scores[:4]  # Obtener los 4 más similares\n",
    "    tienda_indices = [i[0] for i in sim_scores]\n",
    "    \n",
    "    recomendaciones = []\n",
    "    for i in tienda_indices:\n",
    "        tienda_location = (df_tiendas.at[i, 'latitud'], df_tiendas.at[i, 'longitud'])\n",
    "        distance = geodesic(user_location, tienda_location).km\n",
    "        tienda_info = df_tiendas.iloc[i].to_dict()\n",
    "        tienda_info['distance'] = round(distance, 2)\n",
    "        recomendaciones.append(tienda_info)\n",
    "        print(f\"Tienda: {df_tiendas.at[i, 'nombre']}, Distancia: {distance:.2f} km, Similitud: {sim_scores[tienda_indices.index(i)][1]:.2f}\")  # Imprimir distancia y similitud\n",
    "    \n",
    "    return recomendaciones\n",
    "\n",
    "\n",
    "# 19321: pardos\n",
    "# Uso de ejemplo\n",
    "#9143: La Lucha Sangucheria Criolla\n",
    "# -12.135105794453583, -77.02212741858906 coordenadas UTEC\n",
    "#17989: Consultorio Odontologico Brasilerio\n",
    "#user_location = (-12.130843, -76.982489)  # Ubicación del usuario (para probar puse ubicacion de la tienda)\n",
    "tienda_id = 17989  # ID de la tienda\n",
    "user_location = (-12.135105794453583, -77.02212741858906)  # Ubicación del usuario (para probar puse ubicacion de la tienda)\n",
    "radius_km = 1  # Radio de búsqueda en kilómetros\n",
    "print(f'Tienda: {tienda_id}, Ubicación: {user_location}, Radio: {radius_km}')\n",
    "recomendaciones = obtener_recomendaciones_con_distancia(tienda_id, user_location, radius_km=radius_km)  # Aumenta el radio para depuración\n",
    "print(recomendaciones)"
   ]
  }
 ],
 "metadata": {
  "kernelspec": {
   "display_name": "env",
   "language": "python",
   "name": "python3"
  },
  "language_info": {
   "codemirror_mode": {
    "name": "ipython",
    "version": 3
   },
   "file_extension": ".py",
   "mimetype": "text/x-python",
   "name": "python",
   "nbconvert_exporter": "python",
   "pygments_lexer": "ipython3",
   "version": "3.12.6"
  }
 },
 "nbformat": 4,
 "nbformat_minor": 2
}
