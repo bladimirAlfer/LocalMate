{
 "cells": [
  {
   "cell_type": "code",
   "execution_count": null,
   "metadata": {},
   "outputs": [
    {
     "name": "stdout",
     "output_type": "stream",
     "text": [
      "Tienda: 19321, Ubicación: (-12.130843, -76.982489), Radio: 5\n",
      "[{'tienda_id': 17222, 'nombre': 'Villa Chicken', 'categorias': 'restaurant, food', 'latitud': -12.14026, 'longitud': -76.9988566, 'direccion': 'Doña Rosa 144, Santiago de Surco', 'calificaciones': 4.3, 'rango_precios': 'Alto', 'metodos_pago': 'Transferencia', 'tamano_tienda': 'Mediana', 'estacionamiento': 'No', 'horario_apertura': 'Horario laboral', 'distrito': 'Santiago de Surco', 'zona': 'Lima Sur', 'combined_features': 'Villa Chicken restaurant, food Alto Transferencia Mediana No Horario laboral Lima Sur', 'distance': 2.063794580165563}, {'tienda_id': 18733, 'nombre': 'VIA CHICKEN', 'categorias': 'restaurant, food', 'latitud': -12.1351972, 'longitud': -76.9415649, 'direccion': 'Avenida Jose Carlos Mariategui 3536, Villa María del Triunfo', 'calificaciones': 4.0, 'rango_precios': 'Medio', 'metodos_pago': 'Efectivo', 'tamano_tienda': 'Mediana', 'estacionamiento': 'No', 'horario_apertura': '24 horas', 'distrito': 'Ate', 'zona': 'Lima Este', 'combined_features': 'VIA CHICKEN restaurant, food Medio Efectivo Mediana No 24 horas Lima Este', 'distance': 4.480512286076613}]\n"
     ]
    }
   ],
   "source": [
    "import pandas as pd\n",
    "import pickle\n",
    "from geopy.distance import geodesic\n",
    "\n",
    "df_tiendas = pickle.load(open(\"tiendas.pkl\", \"rb\"))\n",
    "cosine_sim = pickle.load(open(\"tfidf_similarity.pkl\", \"rb\"))\n",
    "\n",
    "def obtener_recomendaciones_con_distancia(tienda_id, user_location, cosine_sim=cosine_sim, radius_km=1):\n",
    "    if tienda_id not in df_tiendas['tienda_id'].values:\n",
    "        return []  # O puedes devolver un mensaje de error adecuado\n",
    "    \n",
    "    idx = df_tiendas.index[df_tiendas['tienda_id'] == tienda_id].tolist()[0]\n",
    "    sim_scores = list(enumerate(cosine_sim[idx]))\n",
    "    sim_scores = sorted(sim_scores, key=lambda x: x[1], reverse=True)[1:5]\n",
    "    tienda_indices = [i[0] for i in sim_scores]\n",
    "    \n",
    "    recomendaciones = []\n",
    "    for i in tienda_indices:\n",
    "        tienda_location = (df_tiendas.iloc[i]['latitud'], df_tiendas.iloc[i]['longitud'])\n",
    "        distance = geodesic(user_location, tienda_location).km\n",
    "        if distance <= radius_km:\n",
    "            tienda_info = df_tiendas.iloc[i].to_dict()\n",
    "            tienda_info['distance'] = round(distance, 2)\n",
    "            recomendaciones.append(tienda_info)\n",
    "    return recomendaciones\n",
    "\n",
    "tienda_id = 19321  # ID de la tienda\n",
    "user_location = (-12.130843, -76.982489)  # Ubicación del usuario (para probar puse ubicacion de la tienda)\n",
    "radius_km = 5  # Radio de búsqueda en kilómetros\n",
    "print(f'Tienda: {tienda_id}, Ubicación: {user_location}, Radio: {radius_km}')\n",
    "recomendaciones = obtener_recomendaciones_con_distancia(tienda_id, user_location, radius_km=radius_km)  # Aumenta el radio para depuración\n",
    "print(recomendaciones)"
   ]
  }
 ],
 "metadata": {
  "kernelspec": {
   "display_name": "env",
   "language": "python",
   "name": "python3"
  },
  "language_info": {
   "codemirror_mode": {
    "name": "ipython",
    "version": 3
   },
   "file_extension": ".py",
   "mimetype": "text/x-python",
   "name": "python",
   "nbconvert_exporter": "python",
   "pygments_lexer": "ipython3",
   "version": "3.12.6"
  }
 },
 "nbformat": 4,
 "nbformat_minor": 2
}
